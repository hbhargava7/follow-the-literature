{
 "cells": [
  {
   "cell_type": "code",
   "execution_count": 9,
   "metadata": {},
   "outputs": [],
   "source": [
    "import numpy as np\n",
    "import pandas as pd\n",
    "from helpers import *"
   ]
  },
  {
   "cell_type": "markdown",
   "metadata": {},
   "source": [
    "# TLDR\n",
    "Build pubmed queries (that can be turned into RSS feeds) from Google sheet describing parameters.\n",
    "\n",
    "### Type 1: People search – return articles from people based on name/descriptors\n",
    "### Type 2: Keyword search – return articles from keywords + journals\n",
    "\n",
    "Example Google Sheet: https://docs.google.com/spreadsheets/d/108U4eq7zkwbqaygDMlCKe1cp0q0BlJ6Z0beI7Q9Egzs/edit#gid=0\n",
    "\n",
    "# Motivation\n",
    "\n",
    "Typical approaches for following the literature aren't that good at differentiating the signal from the noise.\n",
    "\n",
    "Examples of signal:\n",
    "\n",
    "- Papers in and around primary field (from any level of journal if it's sufficiently close, but needs to be more relevant as source IF decreases)\n",
    "- Exciting papers of broad relevance to the field (e.g. cell engineering / cell therapies writ large)\n",
    "- Papers by key people, such as personal connections and famous scientists\n",
    "\n",
    "Examples of noise:\n",
    "\n",
    "- Intractable numbers of papers to screen\n",
    "- Papers in predatory journals or from obscure people/places\n",
    "- Non research/review articles (e.g. news, notes, etc.)\n",
    "\n",
    "## Pubmed search helpful tips\n",
    "\n",
    "* use `hasabstract` to filter out news, notes, errata, etc.\n",
    "* use `NOT review[pt]` to filter out reviews; see [HERE](https://pubmed.ncbi.nlm.nih.gov/help/#publication-types)\n",
    "* use `last X years[dp]` to filter by recency; see [HERE](https://pubmed.ncbi.nlm.nih.gov/help/#filter-strategy-pubdate)\n",
    "\n",
    "Also –\n",
    "\n",
    "* Wildcards can be used, like `Nat Rev*[Journal]` for all Nat Rev family journals\n",
    "* `[1au]` and `[lastau]` flags only work with truncated names like Bhargava HK, not with full name\n",
    "* `[tiab]` can be used to limit keyword search to title and abstract\n",
    "\n"
   ]
  },
  {
   "cell_type": "markdown",
   "metadata": {},
   "source": [
    "# Read Data from Google Sheet\n",
    "Google sheet here: https://docs.google.com/spreadsheets/d/108U4eq7zkwbqaygDMlCKe1cp0q0BlJ6Z0beI7Q9Egzs/edit#gid=0"
   ]
  },
  {
   "cell_type": "code",
   "execution_count": 10,
   "metadata": {},
   "outputs": [],
   "source": [
    "sheet_id = '108U4eq7zkwbqaygDMlCKe1cp0q0BlJ6Z0beI7Q9Egzs'\n",
    "sheet_name = 'people'\n",
    "url = f\"https://docs.google.com/spreadsheets/d/{sheet_id}/gviz/tq?tqx=out:csv&sheet={sheet_name}\"\n",
    "people_df = pd.read_csv(url, keep_default_na=False)\n",
    "\n",
    "sheet_id = '108U4eq7zkwbqaygDMlCKe1cp0q0BlJ6Z0beI7Q9Egzs'\n",
    "sheet_name = 'cell-engineering-keywords'\n",
    "url = f\"https://docs.google.com/spreadsheets/d/{sheet_id}/gviz/tq?tqx=out:csv&sheet={sheet_name}\"\n",
    "keywords = pd.read_csv(url, keep_default_na=False)['Keyword'].to_list()\n",
    "\n",
    "sheet_id = '108U4eq7zkwbqaygDMlCKe1cp0q0BlJ6Z0beI7Q9Egzs'\n",
    "sheet_name = 'journal-whitelist'\n",
    "url = f\"https://docs.google.com/spreadsheets/d/{sheet_id}/gviz/tq?tqx=out:csv&sheet={sheet_name}\"\n",
    "journals = pd.read_csv(url, keep_default_na=False)['Journal'].to_list()"
   ]
  },
  {
   "cell_type": "markdown",
   "metadata": {},
   "source": [
    "# 1. Build the queries"
   ]
  },
  {
   "cell_type": "markdown",
   "metadata": {},
   "source": [
    "## 1A. People\n",
    "\n",
    "For each person: `((ANY name+author_position) AND ((ANY affiliation) OR orcid)`"
   ]
  },
  {
   "cell_type": "code",
   "execution_count": 3,
   "metadata": {},
   "outputs": [
    {
     "data": {
      "text/plain": [
       "79"
      ]
     },
     "execution_count": 3,
     "metadata": {},
     "output_type": "execute_result"
    }
   ],
   "source": [
    "len(people_df)"
   ]
  },
  {
   "cell_type": "code",
   "execution_count": 4,
   "metadata": {},
   "outputs": [
    {
     "name": "stdout",
     "output_type": "stream",
     "text": [
      "Query for people (paste into Pubmed):\n",
      "\n",
      "((Wendell A Lim[FAU])) OR ((Hana El-Samad[FAU])) OR ((Kole T Roybal[FAU])) OR ((Alexander Marson[FAU])) OR ((Marcela Maus[FAU])) OR ((Carl H June[FAU] AND June CH[lastau])) OR ((Crystal L Mackall[FAU])) OR ((Michel Sadelain[FAU])) OR ((Justin Eyquem[FAU])) OR ((Wilson W Wong[FAU] AND Wong WW[lastau])) OR ((Steven A Rosenberg[FAU] AND Rosenberg SA[lastau])) OR ((Rogelio A Hernandez-Lopez[FAU])) OR ((Kyle G Daniels[FAU])) OR ((Yvonne Y Chen[FAU] AND Chen YY[lastau])) OR ((Stanley R Riddell[FAU] AND Riddell SR[lastau])) OR ((Darrell J Irvine[FAU] AND Irvine DJ[lastau])) OR ((Gregoire Altan-Bonnet[FAU] AND Altan-Bonnet G[lastau])) OR ((Ira Mellman[FAU] AND Mellman I[lastau])) OR ((Jeffrey A Bluestone[FAU] AND Bluestone JA[lastau])) OR ((Ahmad S Khalil[FAU])) OR ((K Christopher Garcia[FAU] AND Garcia KC[lastau])) OR ((Ronald N Germain[FAU] AND Germain RN[lastau])) OR ((James A Wells[FAU] AND Wells JA[lastau])) OR ((Nicholas P Restifo[FAU] AND Restifo NP[lastau])) OR ((Greg M Allen[FAU])) OR ((Ricardo Almeida[FAU]) AND (San Francisco[affil])) OR ((Nirali N Shah[FAU] AND Shah NN[lastau])) OR ((Rayne H Rouce[FAU] AND Rouce RH[lastau])) OR ((Marco L Davila[FAU] AND Davila ML[lastau])) OR ((Francesco M Marincola[FAU] AND Marincola FM[lastau])) OR ((Daniel J Powell[FAU] AND Powell DJ[lastau])) OR ((Robbie G Majzner[FAU] AND Majzner RG[lastau])) OR ((Lei Stanley Qi[FAU] AND Qi LS[lastau])) AND hasabstract\n"
     ]
    }
   ],
   "source": [
    "people_df['query'] = people_df.apply(lambda row: author_query_from_row(row), axis=1)\n",
    "\n",
    "people_df = people_df[people_df['Core Field'] == '1']\n",
    "\n",
    "people_query = ''\n",
    "i = 0\n",
    "for _, row in people_df.iterrows():\n",
    "    people_query += row['query'] \n",
    "    if i < len(people_df)-1:\n",
    "        people_query += ' OR '\n",
    "    i += 1\n",
    "    \n",
    "people_query += ' AND hasabstract'\n",
    "\n",
    "# Copy to clipboard\n",
    "print('Query for people (paste into Pubmed):\\n')\n",
    "print(people_query)\n",
    "!echo \"$people_query\" | pbcopy"
   ]
  },
  {
   "cell_type": "markdown",
   "metadata": {},
   "source": [
    "## 1B. Topics + Journals\n",
    "`(ANY keyword) AND (ANY journal) AND hasabstract`"
   ]
  },
  {
   "cell_type": "code",
   "execution_count": 12,
   "metadata": {},
   "outputs": [
    {
     "name": "stdout",
     "output_type": "stream",
     "text": [
      "Query for keywords + journals (paste into Pubmed):\n",
      "\n",
      "((\"chimeric antigen receptor\"[tiab]) OR (\"car-t\"[tiab]) OR (\"car t\"[tiab]) OR (\"synnotch\"[tiab]) OR (\"synthetic notch\"[tiab]) OR (\"cell therapy\"[tiab]) OR (\"cell engineering\"[tiab]) OR (\"IL-2\"[tiab]) OR (\"interleukin-2\"[tiab]) OR (\"interleukin 2\"[tiab]) OR (\"cd25\"[tiab])) AND ((\"Cell\"[journal]) OR (\"Science\"[journal]) OR (\"Nature*\"[journal]) OR (\"N Engl J Med\"[journal]) OR (\"Lancet*\"[journal]) OR (\"JAMA*\"[journal]) OR (\"Blood Adv\"[journal]) OR (\"Blood\"[journal]) OR (\"Proc Natl Acad Sci U S A\"[journal]) OR (\"J Clin Oncol\"[journal]) OR (\"PLoS Computational Biology\"[journal]) OR (\"PLoS Biology\"[journal]) OR (\"Science Advances\"[journal]) OR (\"Neuron\"[journal]) OR (\"ACS Synthetic Biology\"[journal]) OR (\"Cell Reports\"[journal]) OR (\"Cell Systems\"[journal]) OR (\"Science Signaling\"[journal]) OR (\"Science Immunology\"[journal]) OR (\"Front Immunol\"[journal]) OR (\"Science Translational Medicine\"[journal]) OR (\"J Clin Invest\"[journal]) OR (\"J Immunol\"[journal]) OR (\"Elife\"[journal]) OR (\"bioRxiv\"[journal]) OR (\"Cancer Research\"[journal]) OR (\"Clin Cancer Res\"[journal]) OR (\"Immunity\"[journal]) OR (\"J Theor Biol\"[journal]) OR (\"Cancer Cell\"[journal]) OR (\"Annu Rev*\"[journal]) OR (\"Blood Rev\"[journal])) AND hasabstract\n"
     ]
    }
   ],
   "source": [
    "kwquery = \"(\"\n",
    "for i, kw in enumerate(keywords):\n",
    "    kwquery += '(\\\"%s\\\"[tiab])' % kw\n",
    "    \n",
    "    if i < len(keywords) - 1:\n",
    "        kwquery += ' OR '\n",
    "        \n",
    "kwquery += ')'\n",
    "\n",
    "jquery = '('\n",
    "for i, jn in enumerate(journals):\n",
    "    jquery += '(\\\"%s\\\"[journal])' % jn\n",
    "    \n",
    "    if i < len(journals) - 1:\n",
    "        jquery += ' OR '\n",
    "        \n",
    "jquery += ')'\n",
    "\n",
    "query = kwquery + ' AND ' + jquery + ' AND hasabstract'\n",
    "\n",
    "print('Query for keywords + journals (paste into Pubmed):\\n')\n",
    "\n",
    "# Copy to clipboard\n",
    "# !echo $query | pbcopy\n",
    "print(query)"
   ]
  },
  {
   "cell_type": "markdown",
   "metadata": {},
   "source": [
    "# Analyze PEOPLE queries"
   ]
  },
  {
   "cell_type": "markdown",
   "metadata": {},
   "source": [
    "### Check avg N Papers per year for each query (last 5 years)\n",
    "Note: this is slow because it has to query pubmed for each paper."
   ]
  },
  {
   "cell_type": "code",
   "execution_count": null,
   "metadata": {},
   "outputs": [],
   "source": [
    "people_df['papers_per_year'] = people_df.apply(lambda row: avg_articles_per_year_last5(row['query']), axis=1)"
   ]
  },
  {
   "cell_type": "code",
   "execution_count": null,
   "metadata": {},
   "outputs": [],
   "source": [
    "people_df.sort_values(by='papers_per_year', ascending=False)"
   ]
  },
  {
   "cell_type": "markdown",
   "metadata": {},
   "source": [
    "# Analyze Keyword Query"
   ]
  },
  {
   "cell_type": "markdown",
   "metadata": {},
   "source": [
    "## Check avg N results per year for last 5 years)"
   ]
  },
  {
   "cell_type": "code",
   "execution_count": null,
   "metadata": {},
   "outputs": [],
   "source": [
    "avg_articles_per_year_last5(query)"
   ]
  }
 ],
 "metadata": {
  "kernelspec": {
   "display_name": "Python 3",
   "language": "python",
   "name": "python3"
  },
  "language_info": {
   "codemirror_mode": {
    "name": "ipython",
    "version": 3
   },
   "file_extension": ".py",
   "mimetype": "text/x-python",
   "name": "python",
   "nbconvert_exporter": "python",
   "pygments_lexer": "ipython3",
   "version": "3.8.13"
  }
 },
 "nbformat": 4,
 "nbformat_minor": 4
}
