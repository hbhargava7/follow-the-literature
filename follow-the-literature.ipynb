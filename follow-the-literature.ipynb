{
 "cells": [
  {
   "cell_type": "code",
   "execution_count": null,
   "metadata": {},
   "outputs": [],
   "source": [
    "import numpy as np\n",
    "import pandas as pd\n",
    "from helpers import *"
   ]
  },
  {
   "cell_type": "markdown",
   "metadata": {},
   "source": [
    "# TLDR\n",
    "Build pubmed queries (that can be turned into RSS feeds) from Google sheet describing parameters.\n",
    "\n",
    "### Type 1: People search – return articles from people based on name/descriptors\n",
    "### Type 2: Keyword search – return articles from keywords + journals\n",
    "\n",
    "Example Google Sheet: https://docs.google.com/spreadsheets/d/108U4eq7zkwbqaygDMlCKe1cp0q0BlJ6Z0beI7Q9Egzs/edit#gid=0\n",
    "\n",
    "# Motivation\n",
    "\n",
    "Typical approaches for following the literature aren't that good at differentiating the signal from the noise.\n",
    "\n",
    "Examples of signal:\n",
    "\n",
    "- Papers in and around primary field (from any level of journal if it's sufficiently close, but needs to be more relevant as source IF decreases)\n",
    "- Exciting papers of broad relevance to the field (e.g. cell engineering / cell therapies writ large)\n",
    "- Papers by key people, such as personal connections and famous scientists\n",
    "\n",
    "Examples of noise:\n",
    "\n",
    "- Intractable numbers of papers to screen\n",
    "- Papers in predatory journals or from obscure people/places\n",
    "- Non research/review articles (e.g. news, notes, etc.)\n",
    "\n",
    "## Pubmed search helpful tips\n",
    "\n",
    "* use `hasabstract` to filter out news, notes, errata, etc.\n",
    "* use `NOT review[pt]` to filter out reviews; see [HERE](https://pubmed.ncbi.nlm.nih.gov/help/#publication-types)\n",
    "* use `last X years[dp]` to filter by recency; see [HERE](https://pubmed.ncbi.nlm.nih.gov/help/#filter-strategy-pubdate)\n",
    "\n",
    "Also –\n",
    "\n",
    "* Wildcards can be used, like `Nat Rev*[Journal]` for all Nat Rev family journals\n",
    "* `[1au]` and `[lastau]` flags only work with truncated names like Bhargava HK, not with full name\n",
    "\n"
   ]
  },
  {
   "cell_type": "markdown",
   "metadata": {},
   "source": [
    "# Read Data from Google Sheet\n",
    "Google sheet here: https://docs.google.com/spreadsheets/d/108U4eq7zkwbqaygDMlCKe1cp0q0BlJ6Z0beI7Q9Egzs/edit#gid=0"
   ]
  },
  {
   "cell_type": "code",
   "execution_count": null,
   "metadata": {},
   "outputs": [],
   "source": [
    "sheet_id = '108U4eq7zkwbqaygDMlCKe1cp0q0BlJ6Z0beI7Q9Egzs'\n",
    "sheet_name = 'people'\n",
    "url = f\"https://docs.google.com/spreadsheets/d/{sheet_id}/gviz/tq?tqx=out:csv&sheet={sheet_name}\"\n",
    "people_df = pd.read_csv(url, keep_default_na=False)\n",
    "\n",
    "sheet_id = '108U4eq7zkwbqaygDMlCKe1cp0q0BlJ6Z0beI7Q9Egzs'\n",
    "sheet_name = 'cell-engineering-keywords'\n",
    "url = f\"https://docs.google.com/spreadsheets/d/{sheet_id}/gviz/tq?tqx=out:csv&sheet={sheet_name}\"\n",
    "keywords = pd.read_csv(url, keep_default_na=False)['Keyword'].to_list()\n",
    "\n",
    "sheet_id = '108U4eq7zkwbqaygDMlCKe1cp0q0BlJ6Z0beI7Q9Egzs'\n",
    "sheet_name = 'journal-whitelist'\n",
    "url = f\"https://docs.google.com/spreadsheets/d/{sheet_id}/gviz/tq?tqx=out:csv&sheet={sheet_name}\"\n",
    "journals = pd.read_csv(url, keep_default_na=False)['Journal'].to_list()"
   ]
  },
  {
   "cell_type": "markdown",
   "metadata": {},
   "source": [
    "# 1. Build the queries"
   ]
  },
  {
   "cell_type": "markdown",
   "metadata": {},
   "source": [
    "## 1A. People\n",
    "\n",
    "For each person: `((ANY name+author_position) AND ((ANY affiliation) OR orcid)`"
   ]
  },
  {
   "cell_type": "code",
   "execution_count": null,
   "metadata": {},
   "outputs": [],
   "source": [
    "people_df['query'] = people_df.apply(lambda row: author_query_from_row(row), axis=1)\n",
    "\n",
    "people_query = ''\n",
    "for i, row in people_df.iterrows():\n",
    "    people_query += row['query'] \n",
    "    if i < len(people_df)-1:\n",
    "        people_query += ' OR '\n",
    "\n",
    "# Copy to clipboard\n",
    "print(people_query)\n",
    "!echo \"$people_query\" | pbcopy"
   ]
  },
  {
   "cell_type": "markdown",
   "metadata": {},
   "source": [
    "## 1B. Topics + Journals\n",
    "`(ANY keyword) AND (ANY journal) AND hasabstract`"
   ]
  },
  {
   "cell_type": "code",
   "execution_count": null,
   "metadata": {},
   "outputs": [],
   "source": [
    "kwquery = \"(\"\n",
    "for i, kw in enumerate(keywords):\n",
    "    kwquery += '\\\"%s\\\"' % kw\n",
    "    \n",
    "    if i < len(keywords) - 1:\n",
    "        kwquery += ' OR '\n",
    "        \n",
    "kwquery += ')'\n",
    "\n",
    "jquery = '('\n",
    "for i, jn in enumerate(journals):\n",
    "    jquery += '\\\"%s\\\"[journal]' % jn\n",
    "    \n",
    "    if i < len(journals) - 1:\n",
    "        jquery += ' OR '\n",
    "        \n",
    "jquery += ')'\n",
    "\n",
    "query = kwquery + ' AND ' + jquery + ' AND hasabstract'\n",
    "\n",
    "# Copy to clipboard\n",
    "# !echo $query | pbcopy\n",
    "print(query)"
   ]
  },
  {
   "cell_type": "markdown",
   "metadata": {},
   "source": [
    "# Analyze PEOPLE queries"
   ]
  },
  {
   "cell_type": "markdown",
   "metadata": {},
   "source": [
    "### Check avg N Papers per year for each query (last 5 years)\n",
    "Note: this is slow because it has to query pubmed for each paper."
   ]
  },
  {
   "cell_type": "code",
   "execution_count": null,
   "metadata": {},
   "outputs": [],
   "source": [
    "people_df['papers_per_year'] = people_df.apply(lambda row: avg_articles_per_year_last5(row['query']), axis=1)"
   ]
  },
  {
   "cell_type": "code",
   "execution_count": null,
   "metadata": {},
   "outputs": [],
   "source": [
    "people_df.sort_values(by='papers_per_year', ascending=False)"
   ]
  },
  {
   "cell_type": "markdown",
   "metadata": {},
   "source": [
    "# Analyze Keyword Query"
   ]
  },
  {
   "cell_type": "markdown",
   "metadata": {},
   "source": [
    "## Check avg N results per year for last 5 years)"
   ]
  },
  {
   "cell_type": "code",
   "execution_count": null,
   "metadata": {},
   "outputs": [],
   "source": [
    "avg_articles_per_year_last5(query)"
   ]
  }
 ],
 "metadata": {
  "kernelspec": {
   "display_name": "Python 3",
   "language": "python",
   "name": "python3"
  },
  "language_info": {
   "codemirror_mode": {
    "name": "ipython",
    "version": 3
   },
   "file_extension": ".py",
   "mimetype": "text/x-python",
   "name": "python",
   "nbconvert_exporter": "python",
   "pygments_lexer": "ipython3",
   "version": "3.8.13"
  }
 },
 "nbformat": 4,
 "nbformat_minor": 4
}
