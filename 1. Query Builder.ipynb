{
 "cells": [
  {
   "cell_type": "markdown",
   "metadata": {},
   "source": [
    "## Use pubmed-sieve to build a PubMed query and RSS Feed from a Google Sheet.\n",
    "\n",
    "**Example Google Sheet Here:** https://docs.google.com/spreadsheets/d/1HD52dXGvVEHbBejDzUAzVhsvi_T3RT99uNhGzHZlQjo\n",
    "\n",
    "**Google Sheet Template Here (File > Make a Copy):** https://docs.google.com/spreadsheets/d/181rDSN6aB1zjKiPIP4Ai6bRNnnXx6GTPqNsVxNk1kB8\n",
    "\n",
    "_Make sure your sheet is set to 'Anyone with the Link can View'_"
   ]
  },
  {
   "cell_type": "markdown",
   "metadata": {},
   "source": [
    "### Paste your sheet URL in place of mine below.\n",
    "\n",
    "then run all cells to get your output."
   ]
  },
  {
   "cell_type": "code",
   "execution_count": 1,
   "metadata": {},
   "outputs": [],
   "source": [
    "url = \"https://docs.google.com/spreadsheets/d/1HD52dXGvVEHbBejDzUAzVhsvi_T3RT99uNhGzHZlQjo\"\n",
    "\n",
    "feed_name = 'your pubmed-sieve feed'"
   ]
  },
  {
   "cell_type": "code",
   "execution_count": 2,
   "metadata": {},
   "outputs": [
    {
     "name": "stdout",
     "output_type": "stream",
     "text": [
      "pubmed-sieve parsed spreadsheet with id: 1mY88muNHpybf0OK02q0vsniM9Anw_9T3RgQM95bASww\n",
      "pubmed-sieve building query with 1 authors, 1 keywords, and 1 journals.\n",
      "\n",
      "Pubmed RSS Feed URL: https://pubmed.ncbi.nlm.nih.gov/rss/search/1-UFW4KkLsPcVkAd4xOjCPRHjINcJ4pjdDYm3Y8__F7T7z_Mks/?limit=100&utm_campaign=pubmed-2&fc=20230115015104\n",
      "\n",
      "Raw Pubmed Query String (try pasting it here: https://pubmed.ncbi.nlm.nih.gov/): \n",
      "\n",
      "(((Hersh K Bhargava[FAU])) AND hasabstract) OR (((\"T cell\"[tiab])) AND ((\"Nature\"[journal])) AND hasabstract)\n"
     ]
    }
   ],
   "source": [
    "import pubmed_sieve as sieve\n",
    "\n",
    "# Generate the query\n",
    "query = sieve.build_query_from_spreadsheet_url(url)\n",
    "\n",
    "# Generate the RSS link (requires Chromium browser)\n",
    "rss_url = sieve.gen_pubmed_rss_link_for_query(feed_name=feed_name, query_string=query)\n",
    "\n",
    "print('\\nPubmed RSS Feed URL: %s' % rss_url)\n",
    "print('\\nRaw Pubmed Query String (try pasting it here: https://pubmed.ncbi.nlm.nih.gov/): \\n\\n%s' % query)"
   ]
  },
  {
   "cell_type": "code",
   "execution_count": null,
   "metadata": {},
   "outputs": [],
   "source": []
  }
 ],
 "metadata": {
  "kernelspec": {
   "display_name": "Python 3",
   "language": "python",
   "name": "python3"
  },
  "language_info": {
   "codemirror_mode": {
    "name": "ipython",
    "version": 3
   },
   "file_extension": ".py",
   "mimetype": "text/x-python",
   "name": "python",
   "nbconvert_exporter": "python",
   "pygments_lexer": "ipython3",
   "version": "3.8.13"
  },
  "vscode": {
   "interpreter": {
    "hash": "1ee38ef4a5a9feb55287fd749643f13d043cb0a7addaab2a9c224cbe137c0062"
   }
  }
 },
 "nbformat": 4,
 "nbformat_minor": 4
}
