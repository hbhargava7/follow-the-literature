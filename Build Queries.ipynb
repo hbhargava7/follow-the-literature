{
 "cells": [
  {
   "cell_type": "code",
   "execution_count": 1,
   "metadata": {},
   "outputs": [],
   "source": [
    "import numpy as np\n",
    "import pandas as pd\n",
    "from Bio import Entrez"
   ]
  },
  {
   "cell_type": "markdown",
   "metadata": {},
   "source": [
    "# TLDR\n",
    "Build pubmed queries (that can be turned into RSS feeds) from Google sheet describing parameters.\n",
    "\n",
    "### Type 1: People search – return articles from people based on name/descriptors\n",
    "### Type 2: Keyword search – return articles from keywords + journals\n",
    "\n",
    "Example Google Sheet: https://docs.google.com/spreadsheets/d/108U4eq7zkwbqaygDMlCKe1cp0q0BlJ6Z0beI7Q9Egzs/edit#gid=0\n",
    "\n",
    "# Rationale and Strategy\n",
    "\n",
    "Typical approaches for following the literature aren't that good at differentiating the signal from the noise.\n",
    "\n",
    "Examples of signal:\n",
    "\n",
    "- Papers in and around primary field (from any level of journal if it's sufficiently close, but needs to be more relevant as source IF decreases)\n",
    "- Exciting papers of broad relevance to the field (e.g. cell engineering / cell therapies writ large)\n",
    "- Papers by key people, such as personal connections and famous scientists\n",
    "\n",
    "Examples of noise:\n",
    "\n",
    "- Intractable numbers of papers to screen\n",
    "- Papers in predatory journals or from obscure people/places\n",
    "- Non research/review articles (e.g. news, notes, etc.)\n",
    "\n",
    "## Pubmed search helpful tips\n",
    "\n",
    "* use `hasabstract` to filter out news, notes, errata, etc.\n",
    "* use `NOT review[pt]` to filter out reviews; see [HERE](https://pubmed.ncbi.nlm.nih.gov/help/#publication-types)\n",
    "* use `last X years[dp]` to filter by recency; see [HERE](https://pubmed.ncbi.nlm.nih.gov/help/#filter-strategy-pubdate)\n",
    "\n",
    "Also –\n",
    "\n",
    "* Wildcards can be used, like `Nat Rev*[Journal]` for all Nat Rev family journals\n",
    "* `[1au]` and `[lastau]` flags only work with truncated names like Bhargava HK, not with full name\n",
    "\n"
   ]
  },
  {
   "cell_type": "markdown",
   "metadata": {
    "tags": []
   },
   "source": [
    "# HELPER FUNCTIONS"
   ]
  },
  {
   "cell_type": "code",
   "execution_count": 2,
   "metadata": {},
   "outputs": [],
   "source": [
    "def pmids_for_query(query):\n",
    "    \"\"\"\n",
    "    Return PMIDs resulting frmo a query\n",
    "    \n",
    "    \"\"\"\n",
    "    \n",
    "    # Search pubmed for the query, returning the PMIDs fo all results (up to 1e4 results)\n",
    "    handle = Entrez.esearch(db='pubmed', retmax=10000, retmode='xml', term=query)\n",
    "    searchResults = Entrez.read(handle)\n",
    "    \n",
    "    pmids = searchResults['IdList']\n",
    "    \n",
    "    return pmids\n",
    "\n",
    "def pubmed_articles_for_query(query):\n",
    "    \"\"\"\n",
    "    Return a dataframe of articles resulting from a pubmed query.\n",
    "    \"\"\"        \n",
    "    # Search pubmed for the query, returning the PMIDs fo all results (up to 1e4 results)\n",
    "    handle = Entrez.esearch(db='pubmed', retmax=10000, retmode='xml', term=query)\n",
    "    searchResults = Entrez.read(handle)\n",
    "    \n",
    "    pmids = pmids_for_query(query)\n",
    "    \n",
    "    # Get the articles from the PMIDs\n",
    "    handle = Entrez.efetch(db='pubmed', retmode='xml', id=pmids)\n",
    "    results = Entrez.read(handle)\n",
    "    articles = results['PubmedArticle']\n",
    "    \n",
    "    df = pd.DataFrame({'PMID': pmids})\n",
    "\n",
    "    journal_names = []\n",
    "    titles = []\n",
    "    dois = []\n",
    "    abstracts = []\n",
    "    years = []\n",
    "    \n",
    "    results = []\n",
    "\n",
    "    for i in range(len(articles)):\n",
    "        # Store the desired information in a dictionary\n",
    "        result = {}\n",
    "        \n",
    "        result['PMID'] = pmids[i]\n",
    "        \n",
    "        # MedlineCitation contains all the data of interest.\n",
    "        article = articles[i]\n",
    "        citation = article['MedlineCitation']\n",
    "\n",
    "        # Retrieve the fields of interest. Some have multiple fallback locations.\n",
    "        result['Journal'] = citation['Article']['Journal']['Title']\n",
    "        result['Title'] = citation['Article']['ArticleTitle']\n",
    "        try:\n",
    "            result['Abstract'] = citation['Article']['Abstract']['AbstractText'][0]\n",
    "        except:\n",
    "            result['Abstract'] = None\n",
    "        try:\n",
    "            result['Year'] = citation[\"Article\"][\"Journal\"][\"JournalIssue\"][\"PubDate\"][\"Year\"]\n",
    "        except:\n",
    "            try:\n",
    "                result['Year'] = citation[\"Article\"][\"ArticleDate\"][0][\"Year\"]\n",
    "            except:\n",
    "                try:\n",
    "                    result['Year'] = citation[\"DateRevised\"][\"Year\"]\n",
    "                except:\n",
    "                    result['Year'] = None\n",
    "\n",
    "        # Get the DOI\n",
    "        refArray = article['PubmedData']['ArticleIdList']\n",
    "        doi = None\n",
    "        for entry in refArray:\n",
    "            if entry.attributes[\"IdType\"] == \"doi\":\n",
    "                doi = entry\n",
    "        result['doi'] = doi\n",
    "        \n",
    "        # Get the article type\n",
    "        try:\n",
    "            types = []\n",
    "            typelist = citation['Article']['PublicationTypeList']\n",
    "            for t in typelist:\n",
    "                tt = str(t)\n",
    "                if \"Research Support\" not in tt:\n",
    "                    types.append(tt)\n",
    "                \n",
    "            result['Types'] = types\n",
    "        except:\n",
    "            result['Types'] = None\n",
    "        \n",
    "        results.append(result)\n",
    "        \n",
    "    df = pd.DataFrame(results)\n",
    "    df['Year'] = df['Year'].astype(int)\n",
    "    return df\n",
    "\n",
    "def avg_articles_per_year_last5(query):\n",
    "    \"\"\"\n",
    "    Return the average number of articles a year for from 2017-2021 for `query`\n",
    "    \n",
    "    \"\"\"\n",
    "    \n",
    "    # Only get last 6 years of data\n",
    "    query += (\" AND \\\"last 6 years\\\"[dp]\")\n",
    "    \n",
    "    try:\n",
    "        data = pubmed_articles_for_query(query)\n",
    "        avgs = [len(data[data['Year'] == val]) for val in [2017, 2018, 2019, 2020, 2021]]\n",
    "        print(np.mean(avgs))\n",
    "        return np.mean(avgs)\n",
    "    except Exception as e:\n",
    "        print('failed on: %s'%query)\n",
    "        print(e)\n",
    "        return np.nan\n",
    "    \n",
    "def truncated_name(name):\n",
    "    \"\"\"\n",
    "    Convert a string name of the form \"Firstname Minitial Lastname\" or \"Firstname Lastname\" to Lastname FinitialMinitial\n",
    "    \n",
    "    e.g. Hersh K Bhargava -> Bhargava HK; Hersh Bhargava -> Bhargava H\n",
    "    \n",
    "    \"\"\"\n",
    "    \n",
    "    split = name.split(' ')\n",
    "    if len(split) == 3:\n",
    "        result = '%s %s%s' % (split[2], split[0][0], split[1][0])\n",
    "    elif len(split) == 2:\n",
    "        result = '%s %s' % (split[1], split[0][0])\n",
    "    else:\n",
    "        print('invalid result from split, suspect invalid name. INptu was : %s'%name)\n",
    "        result = None\n",
    "    return result\n",
    "\n",
    "def author_query(fullname, altnames=None, affiliations=None, author_position='any', orcid=None):\n",
    "    \"\"\"\n",
    "    Generate a pubmed query string to match:\n",
    "    \n",
    "        ((ANY name+author_position) AND ((ANY affiliation) OR orcid)\n",
    "    \n",
    "    Very annoyingly, Pubmed doesn't support [1au] or [lastau] tags with full author names\n",
    "    So would need to do:\n",
    "    \n",
    "        (Hersh K Bhargava[FAU]) AND (Bhargava HK[1au])\n",
    "        \n",
    "    Also can't search by ORCID position\n",
    "        \n",
    "    Parameters\n",
    "    ----------\n",
    "    name : str\n",
    "        Primary search term for the name of the author. Must be of the form 'Hersh K Bhargava' or 'Hersh Bhargava'\n",
    "    altnames : list[str]\n",
    "        List of alternative names (each matched with OR). Used as-is.\n",
    "    affiliations : list[str]\n",
    "        List of affiliations, will be matched for at least one\n",
    "    position : str\n",
    "        Identifier for the author position. Can be 'any', 'first', or 'last'\n",
    "    orcid : str\n",
    "        ORCID identifier for the author\n",
    "    \n",
    "    \"\"\"\n",
    "    \n",
    "    # Assemble author names\n",
    "    names = [fullname]\n",
    "    if altnames != None:\n",
    "        names += altnames\n",
    "    \n",
    "    # Figure out which author position\n",
    "    if author_position == 'any':\n",
    "        poshandle = '[au]'\n",
    "    elif author_position == 'first':\n",
    "        poshandle = '[1au]'\n",
    "    elif author_position == 'last':\n",
    "        poshandle = '[lastau]'\n",
    "        \n",
    "    query = ''\n",
    "        \n",
    "    # First build the name query (each added with OR)\n",
    "    for _name in names:\n",
    "        # Figure out whether it's truncated or full format\n",
    "        if len(query) > 0:\n",
    "            query += ' OR '\n",
    "        else:\n",
    "            query += '('\n",
    "            \n",
    "        query += '(%s[FAU]' % _name\n",
    "        \n",
    "        # If searching by author position, must use truncated query format (Bhargava HK)\n",
    "        if poshandle == '[1au]' or poshandle == '[lastau]':\n",
    "            trunc_name = truncated_name(_name)\n",
    "            query += ' AND %s%s)' % (trunc_name, poshandle)\n",
    "        else:\n",
    "            query += ')'\n",
    "        \n",
    "    # Add affiliation tags and ORCID if present\n",
    "    if affiliations != None:\n",
    "        query += ' AND ('\n",
    "        for i, affil in enumerate(affiliations):\n",
    "            if i > 0:\n",
    "                query += ' OR '\n",
    "            query += '%s[affil]' % affil \n",
    "            \n",
    "        if orcid is not None:\n",
    "            query += ' OR %s[auid]' % orcid\n",
    "        \n",
    "        query += ')'\n",
    "\n",
    "    else:\n",
    "        # No affiliations, just ORCID\n",
    "        if orcid is not None:\n",
    "            query += ' AND %s[auid]' % orcid\n",
    "        \n",
    "    query += ')'\n",
    "    return query\n",
    "\n",
    "def author_query_from_row(row):\n",
    "    author_position = 'last'\n",
    "    orcid = None\n",
    "    affiliations = None\n",
    "    altnames = None\n",
    "    \n",
    "    if row['Position'] != '':\n",
    "        author_position = row['Position']\n",
    "    \n",
    "    if row['ORCID'] != '':\n",
    "        orcid = row['ORCID']\n",
    "        \n",
    "    if row['Affiliations'] != '':\n",
    "        affiliations = row['Affiliations'].split(',')\n",
    "        affiliations = [a.strip() for a in affiliations]\n",
    "        \n",
    "    if row['Alt Names'] != '':\n",
    "        altnames = row['Alt Names'].split(',')\n",
    "        altnames = [a.strip() for a in altnames]\n",
    "    \n",
    "    return author_query(fullname=row['Name'], altnames=altnames, affiliations=affiliations, author_position=author_position, orcid=orcid)"
   ]
  },
  {
   "cell_type": "markdown",
   "metadata": {},
   "source": [
    "# Read Data from Google Sheet\n",
    "Google sheet here: https://docs.google.com/spreadsheets/d/108U4eq7zkwbqaygDMlCKe1cp0q0BlJ6Z0beI7Q9Egzs/edit#gid=0"
   ]
  },
  {
   "cell_type": "code",
   "execution_count": 5,
   "metadata": {},
   "outputs": [],
   "source": [
    "sheet_id = '108U4eq7zkwbqaygDMlCKe1cp0q0BlJ6Z0beI7Q9Egzs'\n",
    "sheet_name = 'people'\n",
    "url = f\"https://docs.google.com/spreadsheets/d/{sheet_id}/gviz/tq?tqx=out:csv&sheet={sheet_name}\"\n",
    "people_df = pd.read_csv(url, keep_default_na=False)\n",
    "\n",
    "sheet_id = '108U4eq7zkwbqaygDMlCKe1cp0q0BlJ6Z0beI7Q9Egzs'\n",
    "sheet_name = 'cell-engineering-keywords'\n",
    "url = f\"https://docs.google.com/spreadsheets/d/{sheet_id}/gviz/tq?tqx=out:csv&sheet={sheet_name}\"\n",
    "keywords = pd.read_csv(url, keep_default_na=False)['Keyword'].to_list()\n",
    "\n",
    "sheet_id = '108U4eq7zkwbqaygDMlCKe1cp0q0BlJ6Z0beI7Q9Egzs'\n",
    "sheet_name = 'journal-whitelist'\n",
    "url = f\"https://docs.google.com/spreadsheets/d/{sheet_id}/gviz/tq?tqx=out:csv&sheet={sheet_name}\"\n",
    "journals = pd.read_csv(url, keep_default_na=False)['Journal'].to_list()"
   ]
  },
  {
   "cell_type": "markdown",
   "metadata": {},
   "source": [
    "# 1. Build the queries"
   ]
  },
  {
   "cell_type": "markdown",
   "metadata": {},
   "source": [
    "## 1A. People\n",
    "\n",
    "For each person: `((ANY name+author_position) AND ((ANY affiliation) OR orcid)`"
   ]
  },
  {
   "cell_type": "code",
   "execution_count": 7,
   "metadata": {},
   "outputs": [
    {
     "name": "stdout",
     "output_type": "stream",
     "text": [
      "((Wendell A Lim[FAU])) OR ((Hana El-Samad[FAU])) OR ((Kole T Roybal[FAU])) OR ((Alexander Marson[FAU])) OR ((Marcela Maus[FAU])) OR ((Carl H June[FAU] AND June CH[lastau])) OR ((Crystal L Mackall[FAU])) OR ((Michel Sadelain[FAU])) OR ((Justin Eyquem[FAU])) OR ((Wilson W Wong[FAU] AND Wong WW[lastau])) OR ((Steven A Rosenberg[FAU] AND Rosenberg SA[lastau])) OR ((Rogelio A Hernandez-Lopez[FAU])) OR ((Kyle G Daniels[FAU])) OR ((Yvonne Y Chen[FAU] AND Chen YY[lastau])) OR ((Stanley R Riddell[FAU] AND Riddell SR[lastau])) OR ((Darrell J Irvine[FAU] AND Irvine DJ[lastau])) OR ((Gregoire Altan-Bonnet[FAU] AND Altan-Bonnet G[lastau])) OR ((Art Weiss[FAU] AND Weiss A[lastau])) OR ((Ronald D Vale[FAU] AND Vale RD[lastau])) OR ((Alfred Singer[FAU] AND Singer A[lastau])) OR ((Ira Mellman[FAU] AND Mellman I[lastau])) OR ((Matthew H Spitzer[FAU] AND Spitzer MH[lastau])) OR ((Hideho Okada[FAU] AND Okada H[lastau])) OR ((Matthew F Krummel[FAU] AND Krummel MF[lastau])) OR ((Jeffrey A Bluestone[FAU] AND Bluestone JA[lastau])) OR ((James P Allison[FAU] AND Allison JP[lastau])) OR ((Dana Pe'er[FAU] AND Pe'er D[lastau])) OR ((Ahmad S Khalil[FAU])) OR ((Ruslan Medzhitov[FAU] AND Medzhitov R[lastau])) OR ((Leor Weinberger[FAU])) OR ((Tal Danino[FAU] AND Danino T[lastau])) OR ((Christopher A Voigt[FAU] AND Voigt CA[lastau])) OR ((James P Sethna[FAU] AND Sethna JP[lastau])) OR ((James J Collins[FAU] AND Collins JJ[lastau])) OR ((James E Ferrell[FAU] AND Ferrell JE[lastau])) OR ((Markus W Covert[FAU] AND Covert MW[lastau])) OR ((Uri Alon[FAU])) OR ((Joshua N Leonard[FAU] AND Leonard JN[lastau])) OR ((K Christopher Garcia[FAU] AND Garcia KC[lastau])) OR ((Jason G Cyster[FAU] AND Cyster JG[lastau])) OR ((Ronald N Germain[FAU] AND Germain RN[lastau])) OR ((Douglas T Fearon[FAU] AND Fearon DT[lastau])) OR ((James A Wells[FAU] AND Wells JA[lastau])) OR ((George M Church[FAU] AND Church GM[lastau])) OR ((Michael B Elowitz[FAU] AND Elowitz MB[lastau])) OR ((Michael E Birnbaum[FAU] AND Birnbaum ME[lastau])) OR ((Nicholas P Restifo[FAU] AND Restifo NP[lastau])) OR ((Karl Deisseroth[FAU] AND Deisseroth K[lastau])) OR ((David Baker[FAU] AND Baker D[lastau]) AND (University of Washington[affil])) OR ((Aviv Regev[FAU] AND Regev A[lastau])) OR ((David R Liu[FAU] AND Liu DR[lastau]) AND (Harvard[affil])) OR ((Jennifer Doudna[FAU] AND Doudna J[lastau])) OR ((Feng Zhang[FAU] AND Zhang F[lastau]) AND (Massachusetts Institute[affil] OR 0000-0003-0178-7995[auid])) OR ((Hani Goodarzi[FAU] AND Goodarzi H[lastau])) OR ((Patrick D Hsu[FAU] AND Hsu PD[lastau])) OR ((Kevan M Shokat[FAU] AND Shokat KM[lastau])) OR ((Garry P Nolan[FAU] AND Nolan GP[lastau])) OR ((Edward S Boyden[FAU] AND Boyden ES[lastau])) OR ((Zev J Gartner[FAU] AND Gartner ZJ[lastau])) OR ((Aman Bhargava[FAU])) OR ((Shawn M Douglas[FAU])) OR ((Daniel L Barabasi[FAU])) OR ((Lucy Lai[FAU]) AND (Harvard[affil])) OR ((Priti Lal[FAU]) AND (Pennsylvania[affil])) OR ((James H Hurley[FAU])) OR ((Anant Madabhushi[FAU] AND Madabhushi A[lastau])) OR ((Eric R Schreiter[FAU])) OR ((James S Fraser[FAU] AND Fraser JS[lastau])) OR ((Michael J Keiser[FAU] AND Keiser MJ[lastau])) OR ((Greg M Allen[FAU])) OR ((Zara Weinberg[FAU])) OR ((Ricardo Almeida[FAU] AND Almeida R[lastau]) AND (San Francisco[affil]))\n"
     ]
    }
   ],
   "source": [
    "people_df['query'] = people_df.apply(lambda row: author_query_from_row(row), axis=1)\n",
    "\n",
    "people_query = ''\n",
    "for i, row in people_df.iterrows():\n",
    "    people_query += row['query'] \n",
    "    if i < len(people_df)-1:\n",
    "        people_query += ' OR '\n",
    "\n",
    "# Copy to clipboard\n",
    "print(people_query)\n",
    "!echo \"$people_query\" | pbcopy"
   ]
  },
  {
   "cell_type": "markdown",
   "metadata": {},
   "source": [
    "## 1B. Topics + Journals\n",
    "`(ANY keyword) AND (ANY journal) AND hasabstract`"
   ]
  },
  {
   "cell_type": "code",
   "execution_count": 6,
   "metadata": {},
   "outputs": [
    {
     "name": "stdout",
     "output_type": "stream",
     "text": [
      "(\"chimeric antigen receptor\" OR \"car-t\" OR \"car t\" OR \"synnotch\" OR \"synthetic notch\" OR \"cell therapy\" OR \"cell engineering\") AND (\"Cell\"[journal] OR \"Science\"[journal] OR \"Nature*\"[journal] OR \"N Engl J Med\"[journal] OR \"Lancet*\"[journal] OR \"JAMA*\"[journal] OR \"Blood Adv\"[journal] OR \"Blood\"[journal] OR \"Proc Natl Acad Sci U S A\"[journal] OR \"J Clin Oncol\"[journal] OR \"PLoS Computational Biology\"[journal] OR \"PLoS Biology\"[journal] OR \"Science Advances\"[journal] OR \"Neuron\"[journal] OR \"ACS Synthetic Biology\"[journal] OR \"Cell Reports\"[journal] OR \"Cell Systems\"[journal] OR \"Science Signaling\"[journal] OR \"Science Immunology\"[journal] OR \"Front Immunol\"[journal] OR \"Science Translational Medicine\"[journal] OR \"J Clin Invest\"[journal] OR \"J Immunol\"[journal] OR \"Elife\"[journal] OR \"bioRxiv\"[journal] OR \"Cancer Research\"[journal] OR \"Clin Cancer Res\"[journal] OR \"Immunity\"[journal] OR \"J Theor Biol\"[journal] OR \"Cancer Cell\"[journal] OR \"Annu Rev*\"[journal] OR \"Blood Rev\"[journal]) AND hasabstract\n"
     ]
    }
   ],
   "source": [
    "kwquery = \"(\"\n",
    "for i, kw in enumerate(keywords):\n",
    "    kwquery += '\\\"%s\\\"' % kw\n",
    "    \n",
    "    if i < len(keywords) - 1:\n",
    "        kwquery += ' OR '\n",
    "        \n",
    "kwquery += ')'\n",
    "\n",
    "jquery = '('\n",
    "for i, jn in enumerate(journals):\n",
    "    jquery += '\\\"%s\\\"[journal]' % jn\n",
    "    \n",
    "    if i < len(journals) - 1:\n",
    "        jquery += ' OR '\n",
    "        \n",
    "jquery += ')'\n",
    "\n",
    "query = kwquery + ' AND ' + jquery + ' AND hasabstract'\n",
    "\n",
    "# Copy to clipboard\n",
    "# !echo $query | pbcopy\n",
    "print(query)"
   ]
  },
  {
   "cell_type": "markdown",
   "metadata": {},
   "source": [
    "# Analyze PEOPLE queries"
   ]
  },
  {
   "cell_type": "markdown",
   "metadata": {},
   "source": [
    "### Check avg N Papers per year for each query (last 5 years)"
   ]
  },
  {
   "cell_type": "code",
   "execution_count": null,
   "metadata": {},
   "outputs": [],
   "source": [
    "people_df['papers_per_year'] = df.apply(lambda row: avg_articles_per_year_last5(row['query']), axis=1)"
   ]
  },
  {
   "cell_type": "code",
   "execution_count": null,
   "metadata": {},
   "outputs": [],
   "source": [
    "people_df.sort_values(by='papers_per_year', ascending=False)"
   ]
  },
  {
   "cell_type": "markdown",
   "metadata": {},
   "source": [
    "# Analyze Cell Therapies Query"
   ]
  },
  {
   "cell_type": "markdown",
   "metadata": {},
   "source": [
    "## Check avg N results per year for last 5 years)"
   ]
  },
  {
   "cell_type": "code",
   "execution_count": 98,
   "metadata": {},
   "outputs": [
    {
     "name": "stdout",
     "output_type": "stream",
     "text": [
      "327.6\n"
     ]
    },
    {
     "data": {
      "text/plain": [
       "327.6"
      ]
     },
     "execution_count": 98,
     "metadata": {},
     "output_type": "execute_result"
    }
   ],
   "source": [
    "avg_articles_per_year_last5(query)"
   ]
  }
 ],
 "metadata": {
  "kernelspec": {
   "display_name": "Python 3",
   "language": "python",
   "name": "python3"
  },
  "language_info": {
   "codemirror_mode": {
    "name": "ipython",
    "version": 3
   },
   "file_extension": ".py",
   "mimetype": "text/x-python",
   "name": "python",
   "nbconvert_exporter": "python",
   "pygments_lexer": "ipython3",
   "version": "3.8.13"
  }
 },
 "nbformat": 4,
 "nbformat_minor": 4
}
